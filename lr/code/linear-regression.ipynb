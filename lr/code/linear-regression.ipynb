{
 "cells": [
  {
   "cell_type": "raw",
   "id": "1f4f77a5",
   "metadata": {
    "papermill": {
     "duration": 0.012503,
     "end_time": "2023-09-02T21:05:45.141546",
     "exception": false,
     "start_time": "2023-09-02T21:05:45.129043",
     "status": "completed"
    },
    "tags": []
   },
   "source": []
  },
  {
   "cell_type": "markdown",
   "id": "979ea14e",
   "metadata": {
    "papermill": {
     "duration": 0.011248,
     "end_time": "2023-09-02T21:05:45.164664",
     "exception": false,
     "start_time": "2023-09-02T21:05:45.153416",
     "status": "completed"
    },
    "tags": []
   },
   "source": [
    "**Target**: Investigating the connection between the amount of time dedicated to studying and the resulting academic scores.\n",
    "\n",
    "**Dataset**: Our dataset comprises two primary columns - 'Hours' and 'Scores'. Each data point represents the number of hours a student devoted to studying and the corresponding score attained.\n",
    "\n",
    "**Approach**: Leveraging the principles of linear regression, this project seeks to elucidate the potential correlation between study hours and academic achievement. The linear regression model employed here aims to establish a predictive relationship based on historical data, enabling us to estimate scores for given hours of study.\n",
    "\n",
    "By meticulously processing the dataset and training the model, we delve into the intricate interplay between study hours and scores. Our formalized approach not only validates the intuitive belief in the positive relationship between effort and performance but also provides a quantitative framework for understanding its nuances.\n",
    "\n",
    "**Implications**: This project holds implications for both educators and students alike, offering insights into the significance of structured study schedules and the potential outcome on academic success. The results not only contribute to the scholarly discourse on educational methodologies but also underline the potential of predictive analytics in shaping future learning paradigms.\n",
    "\n",
    "Through rigorous data analysis and model interpretation, we aim to present a comprehensive understanding of the correlation between study hours and academic scores, exemplifying the power of statistical techniques in the realm of education.\n",
    "\n",
    "\n",
    "\n",
    "\n",
    "\n"
   ]
  },
  {
   "cell_type": "code",
   "execution_count": 1,
   "id": "07a69aed",
   "metadata": {
    "execution": {
     "iopub.execute_input": "2023-09-02T21:05:45.190276Z",
     "iopub.status.busy": "2023-09-02T21:05:45.189865Z",
     "iopub.status.idle": "2023-09-02T21:05:45.243074Z",
     "shell.execute_reply": "2023-09-02T21:05:45.242126Z"
    },
    "papermill": {
     "duration": 0.0687,
     "end_time": "2023-09-02T21:05:45.245349",
     "exception": false,
     "start_time": "2023-09-02T21:05:45.176649",
     "status": "completed"
    },
    "tags": []
   },
   "outputs": [
    {
     "data": {
      "text/html": [
       "<div>\n",
       "<style scoped>\n",
       "    .dataframe tbody tr th:only-of-type {\n",
       "        vertical-align: middle;\n",
       "    }\n",
       "\n",
       "    .dataframe tbody tr th {\n",
       "        vertical-align: top;\n",
       "    }\n",
       "\n",
       "    .dataframe thead th {\n",
       "        text-align: right;\n",
       "    }\n",
       "</style>\n",
       "<table border=\"1\" class=\"dataframe\">\n",
       "  <thead>\n",
       "    <tr style=\"text-align: right;\">\n",
       "      <th></th>\n",
       "      <th>Hours</th>\n",
       "      <th>Scores</th>\n",
       "    </tr>\n",
       "  </thead>\n",
       "  <tbody>\n",
       "    <tr>\n",
       "      <th>0</th>\n",
       "      <td>2.5</td>\n",
       "      <td>21</td>\n",
       "    </tr>\n",
       "    <tr>\n",
       "      <th>1</th>\n",
       "      <td>5.1</td>\n",
       "      <td>47</td>\n",
       "    </tr>\n",
       "    <tr>\n",
       "      <th>2</th>\n",
       "      <td>3.2</td>\n",
       "      <td>27</td>\n",
       "    </tr>\n",
       "    <tr>\n",
       "      <th>3</th>\n",
       "      <td>8.5</td>\n",
       "      <td>75</td>\n",
       "    </tr>\n",
       "    <tr>\n",
       "      <th>4</th>\n",
       "      <td>3.5</td>\n",
       "      <td>30</td>\n",
       "    </tr>\n",
       "    <tr>\n",
       "      <th>5</th>\n",
       "      <td>1.5</td>\n",
       "      <td>20</td>\n",
       "    </tr>\n",
       "    <tr>\n",
       "      <th>6</th>\n",
       "      <td>9.2</td>\n",
       "      <td>88</td>\n",
       "    </tr>\n",
       "    <tr>\n",
       "      <th>7</th>\n",
       "      <td>5.5</td>\n",
       "      <td>60</td>\n",
       "    </tr>\n",
       "    <tr>\n",
       "      <th>8</th>\n",
       "      <td>8.3</td>\n",
       "      <td>81</td>\n",
       "    </tr>\n",
       "    <tr>\n",
       "      <th>9</th>\n",
       "      <td>2.7</td>\n",
       "      <td>25</td>\n",
       "    </tr>\n",
       "    <tr>\n",
       "      <th>10</th>\n",
       "      <td>7.7</td>\n",
       "      <td>85</td>\n",
       "    </tr>\n",
       "    <tr>\n",
       "      <th>11</th>\n",
       "      <td>5.9</td>\n",
       "      <td>62</td>\n",
       "    </tr>\n",
       "    <tr>\n",
       "      <th>12</th>\n",
       "      <td>4.5</td>\n",
       "      <td>41</td>\n",
       "    </tr>\n",
       "    <tr>\n",
       "      <th>13</th>\n",
       "      <td>3.3</td>\n",
       "      <td>42</td>\n",
       "    </tr>\n",
       "    <tr>\n",
       "      <th>14</th>\n",
       "      <td>1.1</td>\n",
       "      <td>17</td>\n",
       "    </tr>\n",
       "    <tr>\n",
       "      <th>15</th>\n",
       "      <td>8.9</td>\n",
       "      <td>95</td>\n",
       "    </tr>\n",
       "    <tr>\n",
       "      <th>16</th>\n",
       "      <td>2.5</td>\n",
       "      <td>30</td>\n",
       "    </tr>\n",
       "    <tr>\n",
       "      <th>17</th>\n",
       "      <td>1.9</td>\n",
       "      <td>24</td>\n",
       "    </tr>\n",
       "    <tr>\n",
       "      <th>18</th>\n",
       "      <td>6.1</td>\n",
       "      <td>67</td>\n",
       "    </tr>\n",
       "    <tr>\n",
       "      <th>19</th>\n",
       "      <td>7.4</td>\n",
       "      <td>69</td>\n",
       "    </tr>\n",
       "    <tr>\n",
       "      <th>20</th>\n",
       "      <td>2.7</td>\n",
       "      <td>30</td>\n",
       "    </tr>\n",
       "    <tr>\n",
       "      <th>21</th>\n",
       "      <td>4.8</td>\n",
       "      <td>54</td>\n",
       "    </tr>\n",
       "    <tr>\n",
       "      <th>22</th>\n",
       "      <td>3.8</td>\n",
       "      <td>35</td>\n",
       "    </tr>\n",
       "    <tr>\n",
       "      <th>23</th>\n",
       "      <td>6.9</td>\n",
       "      <td>76</td>\n",
       "    </tr>\n",
       "    <tr>\n",
       "      <th>24</th>\n",
       "      <td>7.8</td>\n",
       "      <td>86</td>\n",
       "    </tr>\n",
       "  </tbody>\n",
       "</table>\n",
       "</div>"
      ],
      "text/plain": [
       "    Hours  Scores\n",
       "0     2.5      21\n",
       "1     5.1      47\n",
       "2     3.2      27\n",
       "3     8.5      75\n",
       "4     3.5      30\n",
       "5     1.5      20\n",
       "6     9.2      88\n",
       "7     5.5      60\n",
       "8     8.3      81\n",
       "9     2.7      25\n",
       "10    7.7      85\n",
       "11    5.9      62\n",
       "12    4.5      41\n",
       "13    3.3      42\n",
       "14    1.1      17\n",
       "15    8.9      95\n",
       "16    2.5      30\n",
       "17    1.9      24\n",
       "18    6.1      67\n",
       "19    7.4      69\n",
       "20    2.7      30\n",
       "21    4.8      54\n",
       "22    3.8      35\n",
       "23    6.9      76\n",
       "24    7.8      86"
      ]
     },
     "execution_count": 1,
     "metadata": {},
     "output_type": "execute_result"
    }
   ],
   "source": [
    "import pandas as pd\n",
    "import numpy as np\n",
    "import matplotlib.pyplot as plt\n",
    "data=pd.read_csv('/kaggle/input/student-study-hours/score.csv')\n",
    "df=pd.DataFrame(data)\n",
    "df"
   ]
  },
  {
   "cell_type": "markdown",
   "id": "ffcf6e32",
   "metadata": {
    "papermill": {
     "duration": 0.011825,
     "end_time": "2023-09-02T21:05:45.269420",
     "exception": false,
     "start_time": "2023-09-02T21:05:45.257595",
     "status": "completed"
    },
    "tags": []
   },
   "source": [
    "To see some information about the dataset"
   ]
  },
  {
   "cell_type": "code",
   "execution_count": 2,
   "id": "94bb1a30",
   "metadata": {
    "execution": {
     "iopub.execute_input": "2023-09-02T21:05:45.297349Z",
     "iopub.status.busy": "2023-09-02T21:05:45.296263Z",
     "iopub.status.idle": "2023-09-02T21:05:45.320128Z",
     "shell.execute_reply": "2023-09-02T21:05:45.319286Z"
    },
    "papermill": {
     "duration": 0.039378,
     "end_time": "2023-09-02T21:05:45.322356",
     "exception": false,
     "start_time": "2023-09-02T21:05:45.282978",
     "status": "completed"
    },
    "tags": []
   },
   "outputs": [
    {
     "data": {
      "text/html": [
       "<div>\n",
       "<style scoped>\n",
       "    .dataframe tbody tr th:only-of-type {\n",
       "        vertical-align: middle;\n",
       "    }\n",
       "\n",
       "    .dataframe tbody tr th {\n",
       "        vertical-align: top;\n",
       "    }\n",
       "\n",
       "    .dataframe thead th {\n",
       "        text-align: right;\n",
       "    }\n",
       "</style>\n",
       "<table border=\"1\" class=\"dataframe\">\n",
       "  <thead>\n",
       "    <tr style=\"text-align: right;\">\n",
       "      <th></th>\n",
       "      <th>Hours</th>\n",
       "      <th>Scores</th>\n",
       "    </tr>\n",
       "  </thead>\n",
       "  <tbody>\n",
       "    <tr>\n",
       "      <th>count</th>\n",
       "      <td>25.000000</td>\n",
       "      <td>25.000000</td>\n",
       "    </tr>\n",
       "    <tr>\n",
       "      <th>mean</th>\n",
       "      <td>5.012000</td>\n",
       "      <td>51.480000</td>\n",
       "    </tr>\n",
       "    <tr>\n",
       "      <th>std</th>\n",
       "      <td>2.525094</td>\n",
       "      <td>25.286887</td>\n",
       "    </tr>\n",
       "    <tr>\n",
       "      <th>min</th>\n",
       "      <td>1.100000</td>\n",
       "      <td>17.000000</td>\n",
       "    </tr>\n",
       "    <tr>\n",
       "      <th>25%</th>\n",
       "      <td>2.700000</td>\n",
       "      <td>30.000000</td>\n",
       "    </tr>\n",
       "    <tr>\n",
       "      <th>50%</th>\n",
       "      <td>4.800000</td>\n",
       "      <td>47.000000</td>\n",
       "    </tr>\n",
       "    <tr>\n",
       "      <th>75%</th>\n",
       "      <td>7.400000</td>\n",
       "      <td>75.000000</td>\n",
       "    </tr>\n",
       "    <tr>\n",
       "      <th>max</th>\n",
       "      <td>9.200000</td>\n",
       "      <td>95.000000</td>\n",
       "    </tr>\n",
       "  </tbody>\n",
       "</table>\n",
       "</div>"
      ],
      "text/plain": [
       "           Hours     Scores\n",
       "count  25.000000  25.000000\n",
       "mean    5.012000  51.480000\n",
       "std     2.525094  25.286887\n",
       "min     1.100000  17.000000\n",
       "25%     2.700000  30.000000\n",
       "50%     4.800000  47.000000\n",
       "75%     7.400000  75.000000\n",
       "max     9.200000  95.000000"
      ]
     },
     "execution_count": 2,
     "metadata": {},
     "output_type": "execute_result"
    }
   ],
   "source": [
    "df.describe()"
   ]
  },
  {
   "cell_type": "markdown",
   "id": "8428400f",
   "metadata": {
    "papermill": {
     "duration": 0.011871,
     "end_time": "2023-09-02T21:05:45.346611",
     "exception": false,
     "start_time": "2023-09-02T21:05:45.334740",
     "status": "completed"
    },
    "tags": []
   },
   "source": [
    "Drop the missing values"
   ]
  },
  {
   "cell_type": "code",
   "execution_count": 3,
   "id": "0b670840",
   "metadata": {
    "execution": {
     "iopub.execute_input": "2023-09-02T21:05:45.373019Z",
     "iopub.status.busy": "2023-09-02T21:05:45.372599Z",
     "iopub.status.idle": "2023-09-02T21:05:45.379094Z",
     "shell.execute_reply": "2023-09-02T21:05:45.377931Z"
    },
    "papermill": {
     "duration": 0.022563,
     "end_time": "2023-09-02T21:05:45.381628",
     "exception": false,
     "start_time": "2023-09-02T21:05:45.359065",
     "status": "completed"
    },
    "tags": []
   },
   "outputs": [],
   "source": [
    "df.dropna(inplace=True)"
   ]
  },
  {
   "cell_type": "code",
   "execution_count": 4,
   "id": "e0b3890a",
   "metadata": {
    "execution": {
     "iopub.execute_input": "2023-09-02T21:05:45.408308Z",
     "iopub.status.busy": "2023-09-02T21:05:45.407876Z",
     "iopub.status.idle": "2023-09-02T21:05:45.743836Z",
     "shell.execute_reply": "2023-09-02T21:05:45.742609Z"
    },
    "papermill": {
     "duration": 0.352355,
     "end_time": "2023-09-02T21:05:45.746474",
     "exception": false,
     "start_time": "2023-09-02T21:05:45.394119",
     "status": "completed"
    },
    "tags": []
   },
   "outputs": [
    {
     "data": {
      "image/png": "[encoded data removed]",
      "text/plain": [
       "<Figure size 640x480 with 1 Axes>"
      ]
     },
     "metadata": {},
     "output_type": "display_data"
    }
   ],
   "source": [
    "plt.scatter(df[\"Hours\"], df[\"Scores\"])\n",
    "plt.grid()\n",
    "plt.xlabel(\"Hours\")\n",
    "plt.ylabel(\"Scores\")\n",
    "plt.show()"
   ]
  },
  {
   "cell_type": "markdown",
   "id": "f994b3c8",
   "metadata": {
    "papermill": {
     "duration": 0.012585,
     "end_time": "2023-09-02T21:05:45.772561",
     "exception": false,
     "start_time": "2023-09-02T21:05:45.759976",
     "status": "completed"
    },
    "tags": []
   },
   "source": [
    "We can see in the above plot that there is a linear relationship btw Hours & Scores"
   ]
  },
  {
   "cell_type": "code",
   "execution_count": 5,
   "id": "be7a5707",
   "metadata": {
    "execution": {
     "iopub.execute_input": "2023-09-02T21:05:45.800799Z",
     "iopub.status.busy": "2023-09-02T21:05:45.800396Z",
     "iopub.status.idle": "2023-09-02T21:05:47.618849Z",
     "shell.execute_reply": "2023-09-02T21:05:47.617922Z"
    },
    "papermill": {
     "duration": 1.836368,
     "end_time": "2023-09-02T21:05:47.621729",
     "exception": false,
     "start_time": "2023-09-02T21:05:45.785361",
     "status": "completed"
    },
    "tags": []
   },
   "outputs": [
    {
     "name": "stderr",
     "output_type": "stream",
     "text": [
      "/opt/conda/lib/python3.10/site-packages/scipy/__init__.py:146: UserWarning: A NumPy version >=1.16.5 and <1.23.0 is required for this version of SciPy (detected version 1.23.5\n",
      "  warnings.warn(f\"A NumPy version >={np_minversion} and <{np_maxversion}\"\n"
     ]
    },
    {
     "data": {
      "image/png": "[encoded data removed]",
      "text/plain": [
       "<Figure size 800x640 with 1 Axes>"
      ]
     },
     "metadata": {},
     "output_type": "display_data"
    }
   ],
   "source": [
    "from sklearn.model_selection import train_test_split\n",
    "from sklearn.linear_model import LinearRegression\n",
    "from sklearn import metrics\n",
    "plt.figure(figsize=(10,8), dpi=80)\n",
    "plt.scatter(df[\"Hours\"], df[\"Scores\"])\n",
    "plt.grid()\n",
    "plt.title(\"Hours Vs Scores\")\n",
    "plt.xlabel(\"Hours\")\n",
    "plt.ylabel(\"Scores\")\n",
    "plt.show()"
   ]
  },
  {
   "cell_type": "markdown",
   "id": "5bd720d9",
   "metadata": {
    "papermill": {
     "duration": 0.012765,
     "end_time": "2023-09-02T21:05:47.647871",
     "exception": false,
     "start_time": "2023-09-02T21:05:47.635106",
     "status": "completed"
    },
    "tags": []
   },
   "source": [
    "Normalize the data"
   ]
  },
  {
   "cell_type": "code",
   "execution_count": 6,
   "id": "b58a05b8",
   "metadata": {
    "execution": {
     "iopub.execute_input": "2023-09-02T21:05:47.676386Z",
     "iopub.status.busy": "2023-09-02T21:05:47.675978Z",
     "iopub.status.idle": "2023-09-02T21:05:47.681341Z",
     "shell.execute_reply": "2023-09-02T21:05:47.680537Z"
    },
    "papermill": {
     "duration": 0.02246,
     "end_time": "2023-09-02T21:05:47.683637",
     "exception": false,
     "start_time": "2023-09-02T21:05:47.661177",
     "status": "completed"
    },
    "tags": []
   },
   "outputs": [],
   "source": [
    "x= df[\"Hours\"].values.reshape(-1,1)\n",
    "y= df[\"Scores\"].values.reshape(-1,1)"
   ]
  },
  {
   "cell_type": "markdown",
   "id": "de3888ef",
   "metadata": {
    "papermill": {
     "duration": 0.012888,
     "end_time": "2023-09-02T21:05:47.709914",
     "exception": false,
     "start_time": "2023-09-02T21:05:47.697026",
     "status": "completed"
    },
    "tags": []
   },
   "source": [
    "I want to take a 20% (0.2) of my dataset be for testing"
   ]
  },
  {
   "cell_type": "code",
   "execution_count": 7,
   "id": "6a5ebeeb",
   "metadata": {
    "execution": {
     "iopub.execute_input": "2023-09-02T21:05:47.738168Z",
     "iopub.status.busy": "2023-09-02T21:05:47.737525Z",
     "iopub.status.idle": "2023-09-02T21:05:47.743992Z",
     "shell.execute_reply": "2023-09-02T21:05:47.742655Z"
    },
    "papermill": {
     "duration": 0.024011,
     "end_time": "2023-09-02T21:05:47.746957",
     "exception": false,
     "start_time": "2023-09-02T21:05:47.722946",
     "status": "completed"
    },
    "tags": []
   },
   "outputs": [],
   "source": [
    "x_train,x_test,y_train,y_test = train_test_split(x,y, test_size=0.2, random_state=0)"
   ]
  },
  {
   "cell_type": "markdown",
   "id": "10700a59",
   "metadata": {
    "papermill": {
     "duration": 0.013252,
     "end_time": "2023-09-02T21:05:47.773819",
     "exception": false,
     "start_time": "2023-09-02T21:05:47.760567",
     "status": "completed"
    },
    "tags": []
   },
   "source": [
    "Creating a model, and see the slope and intercept"
   ]
  },
  {
   "cell_type": "code",
   "execution_count": 8,
   "id": "d2480359",
   "metadata": {
    "execution": {
     "iopub.execute_input": "2023-09-02T21:05:47.803235Z",
     "iopub.status.busy": "2023-09-02T21:05:47.802791Z",
     "iopub.status.idle": "2023-09-02T21:05:47.828311Z",
     "shell.execute_reply": "2023-09-02T21:05:47.826754Z"
    },
    "papermill": {
     "duration": 0.043298,
     "end_time": "2023-09-02T21:05:47.830716",
     "exception": false,
     "start_time": "2023-09-02T21:05:47.787418",
     "status": "completed"
    },
    "tags": []
   },
   "outputs": [
    {
     "name": "stdout",
     "output_type": "stream",
     "text": [
      "[2.01816004]\n",
      "[[9.91065648]]\n"
     ]
    }
   ],
   "source": [
    "regressor= LinearRegression()\n",
    "regressor.fit(x_train,y_train)\n",
    "y_pred=regressor.predict(x_test)\n",
    "print(regressor.intercept_)\n",
    "print(regressor.coef_)\n"
   ]
  },
  {
   "cell_type": "markdown",
   "id": "85cd7332",
   "metadata": {
    "papermill": {
     "duration": 0.013399,
     "end_time": "2023-09-02T21:05:47.857465",
     "exception": false,
     "start_time": "2023-09-02T21:05:47.844066",
     "status": "completed"
    },
    "tags": []
   },
   "source": [
    "I have generated a linear plot showcasing the model's performance. The red line accurately aligns with the data points, demonstrating a strong fit between the model and the dataset."
   ]
  },
  {
   "cell_type": "code",
   "execution_count": 9,
   "id": "ec8f989e",
   "metadata": {
    "execution": {
     "iopub.execute_input": "2023-09-02T21:05:47.885533Z",
     "iopub.status.busy": "2023-09-02T21:05:47.885095Z",
     "iopub.status.idle": "2023-09-02T21:05:48.144765Z",
     "shell.execute_reply": "2023-09-02T21:05:48.143364Z"
    },
    "papermill": {
     "duration": 0.276476,
     "end_time": "2023-09-02T21:05:48.147188",
     "exception": false,
     "start_time": "2023-09-02T21:05:47.870712",
     "status": "completed"
    },
    "tags": []
   },
   "outputs": [
    {
     "data": {
      "image/png": "[encoded data removed]",
      "text/plain": [
       "<Figure size 640x480 with 1 Axes>"
      ]
     },
     "metadata": {},
     "output_type": "display_data"
    }
   ],
   "source": [
    "plt.scatter(x_test,y_test,color='gray')\n",
    "plt.plot(x_test,y_pred,color='red')\n",
    "plt.show()"
   ]
  },
  {
   "cell_type": "markdown",
   "id": "e6489285",
   "metadata": {
    "papermill": {
     "duration": 0.013598,
     "end_time": "2023-09-02T21:05:48.174525",
     "exception": false,
     "start_time": "2023-09-02T21:05:48.160927",
     "status": "completed"
    },
    "tags": []
   },
   "source": [
    "important parameters"
   ]
  },
  {
   "cell_type": "code",
   "execution_count": 10,
   "id": "8bc77d9f",
   "metadata": {
    "execution": {
     "iopub.execute_input": "2023-09-02T21:05:48.204853Z",
     "iopub.status.busy": "2023-09-02T21:05:48.204428Z",
     "iopub.status.idle": "2023-09-02T21:05:48.213971Z",
     "shell.execute_reply": "2023-09-02T21:05:48.212879Z"
    },
    "papermill": {
     "duration": 0.028473,
     "end_time": "2023-09-02T21:05:48.216741",
     "exception": false,
     "start_time": "2023-09-02T21:05:48.188268",
     "status": "completed"
    },
    "tags": []
   },
   "outputs": [
    {
     "name": "stdout",
     "output_type": "stream",
     "text": [
      "Mean Absolute Error:  4.183859899002982\n",
      "Mean Squared Error:  21.598769307217456\n",
      "Root Mean Squared Error:  4.647447612100373\n",
      "R2_Score:  0.9454906892105354\n"
     ]
    }
   ],
   "source": [
    "print('Mean Absolute Error: ', metrics.mean_absolute_error(y_test,y_pred))\n",
    "print('Mean Squared Error: ', metrics.mean_squared_error(y_test,y_pred))\n",
    "print('Root Mean Squared Error: ', np.sqrt(metrics.mean_squared_error(y_test,y_pred)))\n",
    "print('R2_Score: ', metrics.r2_score(y_test, y_pred))\n"
   ]
  },
  {
   "cell_type": "code",
   "execution_count": 11,
   "id": "698cdbe5",
   "metadata": {
    "execution": {
     "iopub.execute_input": "2023-09-02T21:05:48.247166Z",
     "iopub.status.busy": "2023-09-02T21:05:48.246705Z",
     "iopub.status.idle": "2023-09-02T21:05:48.515195Z",
     "shell.execute_reply": "2023-09-02T21:05:48.513927Z"
    },
    "papermill": {
     "duration": 0.287181,
     "end_time": "2023-09-02T21:05:48.517881",
     "exception": false,
     "start_time": "2023-09-02T21:05:48.230700",
     "status": "completed"
    },
    "tags": []
   },
   "outputs": [
    {
     "data": {
      "image/png": "[encoded data removed]",
      "text/plain": [
       "<Figure size 640x480 with 1 Axes>"
      ]
     },
     "metadata": {},
     "output_type": "display_data"
    }
   ],
   "source": [
    "plt.scatter(x_test,y_test,color='gray')\n",
    "plt.scatter(x_test,y_pred,color='red')\n",
    "plt.show()"
   ]
  },
  {
   "cell_type": "code",
   "execution_count": 12,
   "id": "a7b37c6e",
   "metadata": {
    "execution": {
     "iopub.execute_input": "2023-09-02T21:05:48.548419Z",
     "iopub.status.busy": "2023-09-02T21:05:48.548024Z",
     "iopub.status.idle": "2023-09-02T21:05:48.859054Z",
     "shell.execute_reply": "2023-09-02T21:05:48.856734Z"
    },
    "papermill": {
     "duration": 0.330459,
     "end_time": "2023-09-02T21:05:48.862388",
     "exception": false,
     "start_time": "2023-09-02T21:05:48.531929",
     "status": "completed"
    },
    "tags": []
   },
   "outputs": [
    {
     "data": {
      "image/png": "[encoded data removed]",
      "text/plain": [
       "<Figure size 800x640 with 1 Axes>"
      ]
     },
     "metadata": {},
     "output_type": "display_data"
    }
   ],
   "source": [
    "plt.figure(figsize=(10,8), dpi=80)\n",
    "plt.scatter(y_test,y_pred)\n",
    "plt.plot()\n",
    "plt.grid()"
   ]
  },
  {
   "cell_type": "code",
   "execution_count": 13,
   "id": "c7fd3d00",
   "metadata": {
    "execution": {
     "iopub.execute_input": "2023-09-02T21:05:48.905519Z",
     "iopub.status.busy": "2023-09-02T21:05:48.904254Z",
     "iopub.status.idle": "2023-09-02T21:05:48.916924Z",
     "shell.execute_reply": "2023-09-02T21:05:48.915671Z"
    },
    "papermill": {
     "duration": 0.035396,
     "end_time": "2023-09-02T21:05:48.919437",
     "exception": false,
     "start_time": "2023-09-02T21:05:48.884041",
     "status": "completed"
    },
    "tags": []
   },
   "outputs": [
    {
     "data": {
      "text/html": [
       "<div>\n",
       "<style scoped>\n",
       "    .dataframe tbody tr th:only-of-type {\n",
       "        vertical-align: middle;\n",
       "    }\n",
       "\n",
       "    .dataframe tbody tr th {\n",
       "        vertical-align: top;\n",
       "    }\n",
       "\n",
       "    .dataframe thead th {\n",
       "        text-align: right;\n",
       "    }\n",
       "</style>\n",
       "<table border=\"1\" class=\"dataframe\">\n",
       "  <thead>\n",
       "    <tr style=\"text-align: right;\">\n",
       "      <th></th>\n",
       "      <th>Actual</th>\n",
       "      <th>Predicted</th>\n",
       "    </tr>\n",
       "  </thead>\n",
       "  <tbody>\n",
       "    <tr>\n",
       "      <th>0</th>\n",
       "      <td>20</td>\n",
       "      <td>16.884145</td>\n",
       "    </tr>\n",
       "    <tr>\n",
       "      <th>1</th>\n",
       "      <td>27</td>\n",
       "      <td>33.732261</td>\n",
       "    </tr>\n",
       "    <tr>\n",
       "      <th>2</th>\n",
       "      <td>69</td>\n",
       "      <td>75.357018</td>\n",
       "    </tr>\n",
       "    <tr>\n",
       "      <th>3</th>\n",
       "      <td>30</td>\n",
       "      <td>26.794801</td>\n",
       "    </tr>\n",
       "    <tr>\n",
       "      <th>4</th>\n",
       "      <td>62</td>\n",
       "      <td>60.491033</td>\n",
       "    </tr>\n",
       "  </tbody>\n",
       "</table>\n",
       "</div>"
      ],
      "text/plain": [
       "   Actual  Predicted\n",
       "0      20  16.884145\n",
       "1      27  33.732261\n",
       "2      69  75.357018\n",
       "3      30  26.794801\n",
       "4      62  60.491033"
      ]
     },
     "execution_count": 13,
     "metadata": {},
     "output_type": "execute_result"
    }
   ],
   "source": [
    "compare=pd.DataFrame({'Actual':y_test.flatten(),'Predicted':y_pred.flatten()})\n",
    "compare"
   ]
  },
  {
   "cell_type": "markdown",
   "id": "acc93eef",
   "metadata": {
    "papermill": {
     "duration": 0.016603,
     "end_time": "2023-09-02T21:05:48.950913",
     "exception": false,
     "start_time": "2023-09-02T21:05:48.934310",
     "status": "completed"
    },
    "tags": []
   },
   "source": [
    "I want to add 3X and see the model results."
   ]
  },
  {
   "cell_type": "code",
   "execution_count": 14,
   "id": "9d0cf478",
   "metadata": {
    "execution": {
     "iopub.execute_input": "2023-09-02T21:05:48.984197Z",
     "iopub.status.busy": "2023-09-02T21:05:48.982896Z",
     "iopub.status.idle": "2023-09-02T21:05:48.995275Z",
     "shell.execute_reply": "2023-09-02T21:05:48.994211Z"
    },
    "papermill": {
     "duration": 0.031362,
     "end_time": "2023-09-02T21:05:48.997628",
     "exception": false,
     "start_time": "2023-09-02T21:05:48.966266",
     "status": "completed"
    },
    "tags": []
   },
   "outputs": [
    {
     "data": {
      "text/html": [
       "<div>\n",
       "<style scoped>\n",
       "    .dataframe tbody tr th:only-of-type {\n",
       "        vertical-align: middle;\n",
       "    }\n",
       "\n",
       "    .dataframe tbody tr th {\n",
       "        vertical-align: top;\n",
       "    }\n",
       "\n",
       "    .dataframe thead th {\n",
       "        text-align: right;\n",
       "    }\n",
       "</style>\n",
       "<table border=\"1\" class=\"dataframe\">\n",
       "  <thead>\n",
       "    <tr style=\"text-align: right;\">\n",
       "      <th></th>\n",
       "      <th>Hours</th>\n",
       "      <th>Scores</th>\n",
       "    </tr>\n",
       "  </thead>\n",
       "  <tbody>\n",
       "    <tr>\n",
       "      <th>0</th>\n",
       "      <td>3.0</td>\n",
       "      <td>5</td>\n",
       "    </tr>\n",
       "    <tr>\n",
       "      <th>1</th>\n",
       "      <td>5.5</td>\n",
       "      <td>6</td>\n",
       "    </tr>\n",
       "    <tr>\n",
       "      <th>2</th>\n",
       "      <td>12.0</td>\n",
       "      <td>7</td>\n",
       "    </tr>\n",
       "  </tbody>\n",
       "</table>\n",
       "</div>"
      ],
      "text/plain": [
       "   Hours  Scores\n",
       "0    3.0       5\n",
       "1    5.5       6\n",
       "2   12.0       7"
      ]
     },
     "execution_count": 14,
     "metadata": {},
     "output_type": "execute_result"
    }
   ],
   "source": [
    "df2=pd.DataFrame({\"Hours\":[3,5.5,12],\"Scores\":[5,6,7]})\n",
    "df2"
   ]
  },
  {
   "cell_type": "code",
   "execution_count": 15,
   "id": "5eee3816",
   "metadata": {
    "execution": {
     "iopub.execute_input": "2023-09-02T21:05:49.029567Z",
     "iopub.status.busy": "2023-09-02T21:05:49.028791Z",
     "iopub.status.idle": "2023-09-02T21:05:49.046117Z",
     "shell.execute_reply": "2023-09-02T21:05:49.044705Z"
    },
    "papermill": {
     "duration": 0.036433,
     "end_time": "2023-09-02T21:05:49.048909",
     "exception": false,
     "start_time": "2023-09-02T21:05:49.012476",
     "status": "completed"
    },
    "tags": []
   },
   "outputs": [
    {
     "name": "stderr",
     "output_type": "stream",
     "text": [
      "/tmp/ipykernel_20/3699628766.py:1: FutureWarning: The frame.append method is deprecated and will be removed from pandas in a future version. Use pandas.concat instead.\n",
      "  df3=df.append(df2)\n"
     ]
    },
    {
     "data": {
      "text/html": [
       "<div>\n",
       "<style scoped>\n",
       "    .dataframe tbody tr th:only-of-type {\n",
       "        vertical-align: middle;\n",
       "    }\n",
       "\n",
       "    .dataframe tbody tr th {\n",
       "        vertical-align: top;\n",
       "    }\n",
       "\n",
       "    .dataframe thead th {\n",
       "        text-align: right;\n",
       "    }\n",
       "</style>\n",
       "<table border=\"1\" class=\"dataframe\">\n",
       "  <thead>\n",
       "    <tr style=\"text-align: right;\">\n",
       "      <th></th>\n",
       "      <th>Hours</th>\n",
       "      <th>Scores</th>\n",
       "    </tr>\n",
       "  </thead>\n",
       "  <tbody>\n",
       "    <tr>\n",
       "      <th>0</th>\n",
       "      <td>2.5</td>\n",
       "      <td>21</td>\n",
       "    </tr>\n",
       "    <tr>\n",
       "      <th>1</th>\n",
       "      <td>5.1</td>\n",
       "      <td>47</td>\n",
       "    </tr>\n",
       "    <tr>\n",
       "      <th>2</th>\n",
       "      <td>3.2</td>\n",
       "      <td>27</td>\n",
       "    </tr>\n",
       "    <tr>\n",
       "      <th>3</th>\n",
       "      <td>8.5</td>\n",
       "      <td>75</td>\n",
       "    </tr>\n",
       "    <tr>\n",
       "      <th>4</th>\n",
       "      <td>3.5</td>\n",
       "      <td>30</td>\n",
       "    </tr>\n",
       "    <tr>\n",
       "      <th>5</th>\n",
       "      <td>1.5</td>\n",
       "      <td>20</td>\n",
       "    </tr>\n",
       "    <tr>\n",
       "      <th>6</th>\n",
       "      <td>9.2</td>\n",
       "      <td>88</td>\n",
       "    </tr>\n",
       "    <tr>\n",
       "      <th>7</th>\n",
       "      <td>5.5</td>\n",
       "      <td>60</td>\n",
       "    </tr>\n",
       "    <tr>\n",
       "      <th>8</th>\n",
       "      <td>8.3</td>\n",
       "      <td>81</td>\n",
       "    </tr>\n",
       "    <tr>\n",
       "      <th>9</th>\n",
       "      <td>2.7</td>\n",
       "      <td>25</td>\n",
       "    </tr>\n",
       "    <tr>\n",
       "      <th>10</th>\n",
       "      <td>7.7</td>\n",
       "      <td>85</td>\n",
       "    </tr>\n",
       "    <tr>\n",
       "      <th>11</th>\n",
       "      <td>5.9</td>\n",
       "      <td>62</td>\n",
       "    </tr>\n",
       "    <tr>\n",
       "      <th>12</th>\n",
       "      <td>4.5</td>\n",
       "      <td>41</td>\n",
       "    </tr>\n",
       "    <tr>\n",
       "      <th>13</th>\n",
       "      <td>3.3</td>\n",
       "      <td>42</td>\n",
       "    </tr>\n",
       "    <tr>\n",
       "      <th>14</th>\n",
       "      <td>1.1</td>\n",
       "      <td>17</td>\n",
       "    </tr>\n",
       "    <tr>\n",
       "      <th>15</th>\n",
       "      <td>8.9</td>\n",
       "      <td>95</td>\n",
       "    </tr>\n",
       "    <tr>\n",
       "      <th>16</th>\n",
       "      <td>2.5</td>\n",
       "      <td>30</td>\n",
       "    </tr>\n",
       "    <tr>\n",
       "      <th>17</th>\n",
       "      <td>1.9</td>\n",
       "      <td>24</td>\n",
       "    </tr>\n",
       "    <tr>\n",
       "      <th>18</th>\n",
       "      <td>6.1</td>\n",
       "      <td>67</td>\n",
       "    </tr>\n",
       "    <tr>\n",
       "      <th>19</th>\n",
       "      <td>7.4</td>\n",
       "      <td>69</td>\n",
       "    </tr>\n",
       "    <tr>\n",
       "      <th>20</th>\n",
       "      <td>2.7</td>\n",
       "      <td>30</td>\n",
       "    </tr>\n",
       "    <tr>\n",
       "      <th>21</th>\n",
       "      <td>4.8</td>\n",
       "      <td>54</td>\n",
       "    </tr>\n",
       "    <tr>\n",
       "      <th>22</th>\n",
       "      <td>3.8</td>\n",
       "      <td>35</td>\n",
       "    </tr>\n",
       "    <tr>\n",
       "      <th>23</th>\n",
       "      <td>6.9</td>\n",
       "      <td>76</td>\n",
       "    </tr>\n",
       "    <tr>\n",
       "      <th>24</th>\n",
       "      <td>7.8</td>\n",
       "      <td>86</td>\n",
       "    </tr>\n",
       "    <tr>\n",
       "      <th>0</th>\n",
       "      <td>3.0</td>\n",
       "      <td>5</td>\n",
       "    </tr>\n",
       "    <tr>\n",
       "      <th>1</th>\n",
       "      <td>5.5</td>\n",
       "      <td>6</td>\n",
       "    </tr>\n",
       "    <tr>\n",
       "      <th>2</th>\n",
       "      <td>12.0</td>\n",
       "      <td>7</td>\n",
       "    </tr>\n",
       "  </tbody>\n",
       "</table>\n",
       "</div>"
      ],
      "text/plain": [
       "    Hours  Scores\n",
       "0     2.5      21\n",
       "1     5.1      47\n",
       "2     3.2      27\n",
       "3     8.5      75\n",
       "4     3.5      30\n",
       "5     1.5      20\n",
       "6     9.2      88\n",
       "7     5.5      60\n",
       "8     8.3      81\n",
       "9     2.7      25\n",
       "10    7.7      85\n",
       "11    5.9      62\n",
       "12    4.5      41\n",
       "13    3.3      42\n",
       "14    1.1      17\n",
       "15    8.9      95\n",
       "16    2.5      30\n",
       "17    1.9      24\n",
       "18    6.1      67\n",
       "19    7.4      69\n",
       "20    2.7      30\n",
       "21    4.8      54\n",
       "22    3.8      35\n",
       "23    6.9      76\n",
       "24    7.8      86\n",
       "0     3.0       5\n",
       "1     5.5       6\n",
       "2    12.0       7"
      ]
     },
     "execution_count": 15,
     "metadata": {},
     "output_type": "execute_result"
    }
   ],
   "source": [
    "df3=df.append(df2)\n",
    "df3"
   ]
  },
  {
   "cell_type": "code",
   "execution_count": 16,
   "id": "060bb433",
   "metadata": {
    "execution": {
     "iopub.execute_input": "2023-09-02T21:05:49.086092Z",
     "iopub.status.busy": "2023-09-02T21:05:49.085271Z",
     "iopub.status.idle": "2023-09-02T21:05:49.097924Z",
     "shell.execute_reply": "2023-09-02T21:05:49.096755Z"
    },
    "papermill": {
     "duration": 0.035956,
     "end_time": "2023-09-02T21:05:49.100385",
     "exception": false,
     "start_time": "2023-09-02T21:05:49.064429",
     "status": "completed"
    },
    "tags": []
   },
   "outputs": [
    {
     "data": {
      "text/html": [
       "<div>\n",
       "<style scoped>\n",
       "    .dataframe tbody tr th:only-of-type {\n",
       "        vertical-align: middle;\n",
       "    }\n",
       "\n",
       "    .dataframe tbody tr th {\n",
       "        vertical-align: top;\n",
       "    }\n",
       "\n",
       "    .dataframe thead th {\n",
       "        text-align: right;\n",
       "    }\n",
       "</style>\n",
       "<table border=\"1\" class=\"dataframe\">\n",
       "  <thead>\n",
       "    <tr style=\"text-align: right;\">\n",
       "      <th></th>\n",
       "      <th>Hours</th>\n",
       "      <th>Scores</th>\n",
       "    </tr>\n",
       "  </thead>\n",
       "  <tbody>\n",
       "    <tr>\n",
       "      <th>0</th>\n",
       "      <td>3.0</td>\n",
       "      <td>5</td>\n",
       "    </tr>\n",
       "    <tr>\n",
       "      <th>1</th>\n",
       "      <td>5.5</td>\n",
       "      <td>6</td>\n",
       "    </tr>\n",
       "    <tr>\n",
       "      <th>2</th>\n",
       "      <td>12.0</td>\n",
       "      <td>7</td>\n",
       "    </tr>\n",
       "  </tbody>\n",
       "</table>\n",
       "</div>"
      ],
      "text/plain": [
       "   Hours  Scores\n",
       "0    3.0       5\n",
       "1    5.5       6\n",
       "2   12.0       7"
      ]
     },
     "execution_count": 16,
     "metadata": {},
     "output_type": "execute_result"
    }
   ],
   "source": [
    "train=df3.iloc[:25]\n",
    "test=df3.iloc[25:]\n",
    "test"
   ]
  },
  {
   "cell_type": "code",
   "execution_count": 17,
   "id": "bafc2405",
   "metadata": {
    "execution": {
     "iopub.execute_input": "2023-09-02T21:05:49.134547Z",
     "iopub.status.busy": "2023-09-02T21:05:49.133611Z",
     "iopub.status.idle": "2023-09-02T21:05:49.139717Z",
     "shell.execute_reply": "2023-09-02T21:05:49.138593Z"
    },
    "papermill": {
     "duration": 0.025407,
     "end_time": "2023-09-02T21:05:49.141866",
     "exception": false,
     "start_time": "2023-09-02T21:05:49.116459",
     "status": "completed"
    },
    "tags": []
   },
   "outputs": [],
   "source": [
    "x_train=df3[\"Hours\"][:25].values.reshape(-1,1)\n",
    "y_train=df3[\"Scores\"][:25].values.reshape(-1,1)"
   ]
  },
  {
   "cell_type": "code",
   "execution_count": 18,
   "id": "356fd09f",
   "metadata": {
    "execution": {
     "iopub.execute_input": "2023-09-02T21:05:49.176840Z",
     "iopub.status.busy": "2023-09-02T21:05:49.175569Z",
     "iopub.status.idle": "2023-09-02T21:05:49.182256Z",
     "shell.execute_reply": "2023-09-02T21:05:49.181073Z"
    },
    "papermill": {
     "duration": 0.026669,
     "end_time": "2023-09-02T21:05:49.184712",
     "exception": false,
     "start_time": "2023-09-02T21:05:49.158043",
     "status": "completed"
    },
    "tags": []
   },
   "outputs": [],
   "source": [
    "x_test=df3[\"Hours\"][25:].values.reshape(-1,1)"
   ]
  },
  {
   "cell_type": "code",
   "execution_count": 19,
   "id": "fba28e57",
   "metadata": {
    "execution": {
     "iopub.execute_input": "2023-09-02T21:05:49.219624Z",
     "iopub.status.busy": "2023-09-02T21:05:49.218669Z",
     "iopub.status.idle": "2023-09-02T21:05:49.234482Z",
     "shell.execute_reply": "2023-09-02T21:05:49.233340Z"
    },
    "papermill": {
     "duration": 0.036533,
     "end_time": "2023-09-02T21:05:49.237057",
     "exception": false,
     "start_time": "2023-09-02T21:05:49.200524",
     "status": "completed"
    },
    "tags": []
   },
   "outputs": [
    {
     "data": {
      "text/html": [
       "<style>#sk-container-id-1 {color: black;background-color: white;}#sk-container-id-1 pre{padding: 0;}#sk-container-id-1 div.sk-toggleable {background-color: white;}#sk-container-id-1 label.sk-toggleable__label {cursor: pointer;display: block;width: 100%;margin-bottom: 0;padding: 0.3em;box-sizing: border-box;text-align: center;}#sk-container-id-1 label.sk-toggleable__label-arrow:before {content: \"▸\";float: left;margin-right: 0.25em;color: #696969;}#sk-container-id-1 label.sk-toggleable__label-arrow:hover:before {color: black;}#sk-container-id-1 div.sk-estimator:hover label.sk-toggleable__label-arrow:before {color: black;}#sk-container-id-1 div.sk-toggleable__content {max-height: 0;max-width: 0;overflow: hidden;text-align: left;background-color: #f0f8ff;}#sk-container-id-1 div.sk-toggleable__content pre {margin: 0.2em;color: black;border-radius: 0.25em;background-color: #f0f8ff;}#sk-container-id-1 input.sk-toggleable__control:checked~div.sk-toggleable__content {max-height: 200px;max-width: 100%;overflow: auto;}#sk-container-id-1 input.sk-toggleable__control:checked~label.sk-toggleable__label-arrow:before {content: \"▾\";}#sk-container-id-1 div.sk-estimator input.sk-toggleable__control:checked~label.sk-toggleable__label {background-color: #d4ebff;}#sk-container-id-1 div.sk-label input.sk-toggleable__control:checked~label.sk-toggleable__label {background-color: #d4ebff;}#sk-container-id-1 input.sk-hidden--visually {border: 0;clip: rect(1px 1px 1px 1px);clip: rect(1px, 1px, 1px, 1px);height: 1px;margin: -1px;overflow: hidden;padding: 0;position: absolute;width: 1px;}#sk-container-id-1 div.sk-estimator {font-family: monospace;background-color: #f0f8ff;border: 1px dotted black;border-radius: 0.25em;box-sizing: border-box;margin-bottom: 0.5em;}#sk-container-id-1 div.sk-estimator:hover {background-color: #d4ebff;}#sk-container-id-1 div.sk-parallel-item::after {content: \"\";width: 100%;border-bottom: 1px solid gray;flex-grow: 1;}#sk-container-id-1 div.sk-label:hover label.sk-toggleable__label {background-color: #d4ebff;}#sk-container-id-1 div.sk-serial::before {content: \"\";position: absolute;border-left: 1px solid gray;box-sizing: border-box;top: 0;bottom: 0;left: 50%;z-index: 0;}#sk-container-id-1 div.sk-serial {display: flex;flex-direction: column;align-items: center;background-color: white;padding-right: 0.2em;padding-left: 0.2em;position: relative;}#sk-container-id-1 div.sk-item {position: relative;z-index: 1;}#sk-container-id-1 div.sk-parallel {display: flex;align-items: stretch;justify-content: center;background-color: white;position: relative;}#sk-container-id-1 div.sk-item::before, #sk-container-id-1 div.sk-parallel-item::before {content: \"\";position: absolute;border-left: 1px solid gray;box-sizing: border-box;top: 0;bottom: 0;left: 50%;z-index: -1;}#sk-container-id-1 div.sk-parallel-item {display: flex;flex-direction: column;z-index: 1;position: relative;background-color: white;}#sk-container-id-1 div.sk-parallel-item:first-child::after {align-self: flex-end;width: 50%;}#sk-container-id-1 div.sk-parallel-item:last-child::after {align-self: flex-start;width: 50%;}#sk-container-id-1 div.sk-parallel-item:only-child::after {width: 0;}#sk-container-id-1 div.sk-dashed-wrapped {border: 1px dashed gray;margin: 0 0.4em 0.5em 0.4em;box-sizing: border-box;padding-bottom: 0.4em;background-color: white;}#sk-container-id-1 div.sk-label label {font-family: monospace;font-weight: bold;display: inline-block;line-height: 1.2em;}#sk-container-id-1 div.sk-label-container {text-align: center;}#sk-container-id-1 div.sk-container {/* jupyter's `normalize.less` sets `[hidden] { display: none; }` but bootstrap.min.css set `[hidden] { display: none !important; }` so we also need the `!important` here to be able to override the default hidden behavior on the sphinx rendered scikit-learn.org. See: https://github.com/scikit-learn/scikit-learn/issues/21755 */display: inline-block !important;position: relative;}#sk-container-id-1 div.sk-text-repr-fallback {display: none;}</style><div id=\"sk-container-id-1\" class=\"sk-top-container\"><div class=\"sk-text-repr-fallback\"><pre>LinearRegression()</pre><b>In a Jupyter environment, please rerun this cell to show the HTML representation or trust the notebook. <br />On GitHub, the HTML representation is unable to render, please try loading this page with nbviewer.org.</b></div><div class=\"sk-container\" hidden><div class=\"sk-item\"><div class=\"sk-estimator sk-toggleable\"><input class=\"sk-toggleable__control sk-hidden--visually\" id=\"sk-estimator-id-1\" type=\"checkbox\" checked><label for=\"sk-estimator-id-1\" class=\"sk-toggleable__label sk-toggleable__label-arrow\">LinearRegression</label><div class=\"sk-toggleable__content\"><pre>LinearRegression()</pre></div></div></div></div></div>"
      ],
      "text/plain": [
       "LinearRegression()"
      ]
     },
     "execution_count": 19,
     "metadata": {},
     "output_type": "execute_result"
    }
   ],
   "source": [
    "regressor.fit(x_train,y_train)"
   ]
  },
  {
   "cell_type": "code",
   "execution_count": 20,
   "id": "7ad921dd",
   "metadata": {
    "execution": {
     "iopub.execute_input": "2023-09-02T21:05:49.278438Z",
     "iopub.status.busy": "2023-09-02T21:05:49.277548Z",
     "iopub.status.idle": "2023-09-02T21:05:49.287325Z",
     "shell.execute_reply": "2023-09-02T21:05:49.285950Z"
    },
    "papermill": {
     "duration": 0.033363,
     "end_time": "2023-09-02T21:05:49.290097",
     "exception": false,
     "start_time": "2023-09-02T21:05:49.256734",
     "status": "completed"
    },
    "tags": []
   },
   "outputs": [
    {
     "data": {
      "text/plain": [
       "array([[ 31.81108358],\n",
       "       [ 56.25059205],\n",
       "       [119.79331409]])"
      ]
     },
     "execution_count": 20,
     "metadata": {},
     "output_type": "execute_result"
    }
   ],
   "source": [
    "y_pred=regressor.predict(x_test)\n",
    "y_pred"
   ]
  },
  {
   "cell_type": "code",
   "execution_count": 21,
   "id": "af938b95",
   "metadata": {
    "execution": {
     "iopub.execute_input": "2023-09-02T21:05:49.334863Z",
     "iopub.status.busy": "2023-09-02T21:05:49.332922Z",
     "iopub.status.idle": "2023-09-02T21:05:49.624033Z",
     "shell.execute_reply": "2023-09-02T21:05:49.622823Z"
    },
    "papermill": {
     "duration": 0.314204,
     "end_time": "2023-09-02T21:05:49.627766",
     "exception": false,
     "start_time": "2023-09-02T21:05:49.313562",
     "status": "completed"
    },
    "tags": []
   },
   "outputs": [
    {
     "data": {
      "image/png": "[encoded data removed]",
      "text/plain": [
       "<Figure size 640x480 with 1 Axes>"
      ]
     },
     "metadata": {},
     "output_type": "display_data"
    }
   ],
   "source": [
    "plt.scatter(x_test,y_pred)\n",
    "plt.grid()"
   ]
  },
  {
   "cell_type": "code",
   "execution_count": null,
   "id": "beea7988",
   "metadata": {
    "jupyter": {
     "source_hidden": true
    },
    "papermill": {
     "duration": 0.020378,
     "end_time": "2023-09-02T21:05:49.671466",
     "exception": false,
     "start_time": "2023-09-02T21:05:49.651088",
     "status": "completed"
    },
    "tags": []
   },
   "outputs": [],
   "source": []
  }
 ],
 "kernelspec": {
  "display_name": "Python 3",
  "language": "python",
  "name": "python3"
 },
 "language_info": {
  "codemirror_mode": {
   "name": "ipython",
   "version": 3
  },
  "file_extension": ".py",
  "mimetype": "text/x-python",
  "name": "python",
  "nbconvert_exporter": "python",
  "pygments_lexer": "ipython3",
  "version": "3.6.4"
 },
 "metadata": {
  "kernelspec": {
   "display_name": "Python 3",
   "language": "python",
   "name": "python3"
  },
  "language_info": {
   "codemirror_mode": {
    "name": "ipython",
    "version": 3
   },
   "file_extension": ".py",
   "mimetype": "text/x-python",
   "name": "python",
   "nbconvert_exporter": "python",
   "pygments_lexer": "ipython3",
   "version": "3.10.12"
  },
  "papermill": {
   "default_parameters": {},
   "duration": 18.44849,
   "end_time": "2023-09-02T21:05:50.723799",
   "environment_variables": {},
   "exception": null,
   "input_path": "__notebook__.ipynb",
   "output_path": "__notebook__.ipynb",
   "parameters": {},
   "start_time": "2023-09-02T21:05:32.275309",
   "version": "2.4.0"
  }
 },
 "nbformat": 4,
 "nbformat_minor": 5
}
